{
 "cells": [
  {
   "cell_type": "code",
   "execution_count": 1,
   "metadata": {},
   "outputs": [],
   "source": [
    "import os"
   ]
  },
  {
   "cell_type": "code",
   "execution_count": 2,
   "metadata": {},
   "outputs": [],
   "source": [
    "parent_direcotory = 'Dataset/'"
   ]
  },
  {
   "cell_type": "code",
   "execution_count": 3,
   "metadata": {},
   "outputs": [],
   "source": [
    "test = []\n",
    "train = []\n",
    "validation = []\n",
    "counter = 1\n",
    "entries = os.listdir(parent_direcotory)\n",
    "for entry in entries:\n",
    "    if counter < 8:\n",
    "        train.append(entry)\n",
    "    if counter == 8:\n",
    "        validation.append(entry)\n",
    "    if counter > 8:\n",
    "        test.append(entry)\n",
    "    if counter == 10:\n",
    "        counter = 1\n",
    "    else:\n",
    "        counter += 1"
   ]
  },
  {
   "cell_type": "code",
   "execution_count": 4,
   "metadata": {},
   "outputs": [],
   "source": [
    "def _get_label():\n",
    "    label = []\n",
    "    for x in range(0,168):\n",
    "        label.append(x)\n",
    "    return label"
   ]
  },
  {
   "cell_type": "code",
   "execution_count": 5,
   "metadata": {},
   "outputs": [],
   "source": [
    "def _get_train():\n",
    "    dataset = []\n",
    "    for t in train:\n",
    "        dataset.append(parent_direcotory+t)\n",
    "    return dataset"
   ]
  },
  {
   "cell_type": "code",
   "execution_count": 6,
   "metadata": {},
   "outputs": [],
   "source": [
    "def _get_validation():\n",
    "    dataset = []\n",
    "    for v in validation:\n",
    "        dataset.append(parent_direcotory+v)\n",
    "    return dataset"
   ]
  },
  {
   "cell_type": "code",
   "execution_count": 7,
   "metadata": {},
   "outputs": [],
   "source": [
    "def _get_test():\n",
    "    dataset = []\n",
    "    for t in test:\n",
    "        dataset.append(parent_direcotory+t)\n",
    "    return dataset"
   ]
  },
  {
   "cell_type": "code",
   "execution_count": 8,
   "metadata": {},
   "outputs": [],
   "source": [
    "def load_data():\n",
    "    train_data = _get_train()\n",
    "    validation_data = _get_validation()\n",
    "    test_data = _get_test()\n",
    "    label = _get_label()\n",
    "    return train_data, validation_data, test_data, label"
   ]
  },
  {
   "cell_type": "code",
   "execution_count": null,
   "metadata": {},
   "outputs": [],
   "source": []
  }
 ],
 "metadata": {
  "kernelspec": {
   "display_name": "Python 3",
   "language": "python",
   "name": "python3"
  },
  "language_info": {
   "codemirror_mode": {
    "name": "ipython",
    "version": 3
   },
   "file_extension": ".py",
   "mimetype": "text/x-python",
   "name": "python",
   "nbconvert_exporter": "python",
   "pygments_lexer": "ipython3",
   "version": "3.7.1"
  }
 },
 "nbformat": 4,
 "nbformat_minor": 2
}
