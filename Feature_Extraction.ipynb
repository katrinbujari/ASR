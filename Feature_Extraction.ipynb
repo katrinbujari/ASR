{
 "cells": [
  {
   "cell_type": "code",
   "execution_count": null,
   "metadata": {},
   "outputs": [],
   "source": [
    "import numpy as np\n",
    "import scipy\n",
    "from scipy import fftpack\n",
    "from scipy import signal\n",
    "from scipy.io import wavfile\n",
    "import matplotlib.pyplot as plt"
   ]
  },
  {
   "cell_type": "code",
   "execution_count": null,
   "metadata": {},
   "outputs": [],
   "source": [
    "def add_eps(x):\n",
    "    x[scipy.where(x == 0)] = scipy.finfo(dtype=x.dtype).eps\n",
    "    return x"
   ]
  },
  {
   "cell_type": "code",
   "execution_count": null,
   "metadata": {},
   "outputs": [],
   "source": [
    "def preemphasis(seq, coeff):\n",
    "    return scipy.append(seq[0], seq[1:] - coeff * seq[:-1])"
   ]
  },
  {
   "cell_type": "code",
   "execution_count": null,
   "metadata": {},
   "outputs": [],
   "source": [
    "def freq_to_mel(freq):\n",
    "    return 1125.0 * scipy.log(1.0 + freq / 700.0)"
   ]
  },
  {
   "cell_type": "code",
   "execution_count": null,
   "metadata": {},
   "outputs": [],
   "source": [
    "def mel_to_freq(mel):\n",
    "    return 700.0 * (scipy.exp(mel / 1125.0) - 1.0)"
   ]
  },
  {
   "cell_type": "code",
   "execution_count": null,
   "metadata": {},
   "outputs": [],
   "source": [
    "def iter_bin(out, curr_bin, next_bins, backward=False):\n",
    "    next_bin = next_bins[scipy.where(next_bins > curr_bin)][0]\n",
    "    if backward:\n",
    "        sign = -1\n",
    "        bias = next_bin\n",
    "    else:\n",
    "        sign = 1\n",
    "        bias = curr_bin\n",
    "    for f in range(int(curr_bin), int(next_bin)):\n",
    "        out[f] = sign * (f - bias) / (next_bin - curr_bin)"
   ]
  },
  {
   "cell_type": "code",
   "execution_count": null,
   "metadata": {},
   "outputs": [],
   "source": [
    "def mel_filterbank(num_bank, num_freq, sample_freq, low_freq, high_freq):\n",
    "    num_fft = (num_freq - 1) * 2\n",
    "    low_mel = freq_to_mel(low_freq)\n",
    "    high_mel = freq_to_mel(high_freq)\n",
    "    banks = scipy.linspace(low_mel, high_mel, num_bank + 2)\n",
    "    bins = scipy.floor((num_fft + 1) * mel_to_freq(banks) / sample_freq)\n",
    "    out = scipy.zeros((num_bank, num_fft // 2 + 1))\n",
    "    for b in range(num_bank):\n",
    "        iter_bin(out[b], bins[b], bins[b+1:])\n",
    "        iter_bin(out[b], bins[b+1], bins[b+2:], backward=True)\n",
    "    return out"
   ]
  },
  {
   "cell_type": "code",
   "execution_count": null,
   "metadata": {},
   "outputs": [],
   "source": [
    " def fe_main(datas, data_type):  \n",
    "    mfcc_list = []\n",
    "    per_speaker = []\n",
    "    \n",
    "    expected_frames = 11700\n",
    "    count = 0\n",
    "    \n",
    "    for i,data in enumerate(datas):\n",
    "        # config is based on Kaldi compute-mfcc-feats\n",
    "\n",
    "        # STFT conf\n",
    "        frame_length = 25  # frame / msec\n",
    "        frame_shift = 10   # frame / msec\n",
    "        remove_dc_offset = True\n",
    "        window_type = \"hamming\"\n",
    "\n",
    "        # Fbank conf\n",
    "        preemphasis_coeff = 0.97\n",
    "        use_power = True  # else use magnitude\n",
    "        high_freq = 0.0  # offset from Nyquist freq [Hz]\n",
    "        low_freq = 20.0  # offset from 0 [Hz]\n",
    "        num_mel_bins = 80  # (default 23)\n",
    "        num_ceps = 13\n",
    "        num_lifter = 22\n",
    "\n",
    "        sample_freq, raw_seq = wavfile.read(data)\n",
    "        assert raw_seq.ndim == 1  # assume mono\n",
    "        seq = raw_seq.astype(scipy.float64)\n",
    "        if remove_dc_offset:\n",
    "            seq -= scipy.mean(seq)\n",
    "\n",
    "        # STFT feat\n",
    "        seq = preemphasis(seq, preemphasis_coeff)\n",
    "        num_samples = sample_freq // 1000\n",
    "        window = signal.get_window(window_type, frame_length * num_samples)\n",
    "        mode = \"psd\" if use_power else \"magnitude\"\n",
    "        f, t, spectrogram = signal.spectrogram(seq, sample_freq, window=window, noverlap=frame_shift*num_samples, mode=mode)\n",
    "\n",
    "        # log-fbank feat\n",
    "        banks = mel_filterbank(num_mel_bins, spectrogram.shape[0], sample_freq, low_freq, sample_freq // 2 - high_freq)\n",
    "        fbank_spect = scipy.dot(banks, spectrogram)\n",
    "        logfbank_spect = scipy.log(add_eps(fbank_spect))\n",
    "\n",
    "        # mfcc feat\n",
    "        dct_feat = fftpack.dct(logfbank_spect, type=2, axis=0, norm=\"ortho\")[:num_ceps]\n",
    "        lifter = 1 + num_lifter / 2.0 * scipy.sin(scipy.pi * scipy.arange(num_ceps) / num_lifter)\n",
    "        mfcc_feat = lifter[:, scipy.newaxis] * dct_feat\n",
    "        \n",
    "        mfcc_flt = _flatte(mfcc_feat)\n",
    "        \n",
    "\n",
    "        if len(mfcc_flt) < expected_frames:\n",
    "            for x in range(len(mfcc_flt)+1, expected_frames+1):\n",
    "                mfcc_flt.append(0)\n",
    "        else:\n",
    "            print(\"Bigger frame than 900!!!\")\n",
    "            mfcc_flt = mfcc_flt[:expected_frames]\n",
    "        \n",
    "        if not per_speaker:\n",
    "            per_speaker = mfcc_flt\n",
    "            count = 1\n",
    "        elif count < data_type:\n",
    "            per_speaker.extend(mfcc_flt)\n",
    "            count += 1\n",
    "        \n",
    "        if count == data_type:\n",
    "            mfcc_list.append(per_speaker) \n",
    "            per_speaker = []\n",
    "            count = 0\n",
    "    \n",
    "        #plt.plot(seq)\n",
    "        #plt.matshow(spectrogram)\n",
    "        #plt.matshow(banks)\n",
    "        #plt.matshow(logfbank_spect)\n",
    "        #plt.matshow(mfcc_feat)\n",
    "        #plt.show()\n",
    "\n",
    "    return mfcc_list"
   ]
  },
  {
   "cell_type": "code",
   "execution_count": null,
   "metadata": {},
   "outputs": [],
   "source": [
    "def _flatte(mfcc_list):\n",
    "    mfcc_flt = []\n",
    "    \n",
    "    for mfcc in mfcc_list:\n",
    "        for lst in mfcc:\n",
    "            mfcc_flt.append(lst)\n",
    "\n",
    "    return mfcc_flt"
   ]
  },
  {
   "cell_type": "code",
   "execution_count": null,
   "metadata": {},
   "outputs": [],
   "source": []
  }
 ],
 "metadata": {
  "kernelspec": {
   "display_name": "Python 3",
   "language": "python",
   "name": "python3"
  },
  "language_info": {
   "codemirror_mode": {
    "name": "ipython",
    "version": 3
   },
   "file_extension": ".py",
   "mimetype": "text/x-python",
   "name": "python",
   "nbconvert_exporter": "python",
   "pygments_lexer": "ipython3",
   "version": "3.7.1"
  }
 },
 "nbformat": 4,
 "nbformat_minor": 2
}
